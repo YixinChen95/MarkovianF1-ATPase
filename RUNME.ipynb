{
 "cells": [
  {
   "cell_type": "code",
   "execution_count": 1,
   "id": "c048817a-b60a-431c-8430-023752a259e5",
   "metadata": {},
   "outputs": [],
   "source": [
    "import numpy as np\n",
    "from matplotlib import pyplot as plt\n",
    "\n",
    "from utils import *\n",
    "from model import MarkovModel\n",
    "from instance_analysis import InstanceAnalysis\n",
    "from concentration_gradient import ConcentrationGradient\n",
    "from cg_pathway import CoarseGrainedPathway #not used in this demo"
   ]
  },
  {
   "cell_type": "markdown",
   "id": "2e7dc2e0-a7e2-4a29-a0c5-3ad211ba08c4",
   "metadata": {},
   "source": [
    "### Build the Markov model"
   ]
  },
  {
   "cell_type": "code",
   "execution_count": 2,
   "id": "b83cbc97-1b22-4636-a7f4-9618e5167a1a",
   "metadata": {},
   "outputs": [],
   "source": [
    "model = MarkovModel(confs = \"ohc\",\n",
    "                    v_index = 2,\n",
    "                    activeConf = [2],\n",
    "                    angle_cat = 80, jointConfTrans = False)\n",
    "model.construct()\n",
    "model.findRotModes()"
   ]
  },
  {
   "cell_type": "markdown",
   "id": "8e4d509e-d97a-4b0f-a73a-76e5d9237fc4",
   "metadata": {},
   "source": [
    "### Create instance by a certain parameter set read from file"
   ]
  },
  {
   "cell_type": "code",
   "execution_count": 3,
   "id": "1d9dcbb6-ffd6-4e76-8e56-c5a2c39628fe",
   "metadata": {},
   "outputs": [
    {
     "name": "stdout",
     "output_type": "stream",
     "text": [
      "2 [-2.23460e+00  3.68400e-01  0.00000e+00  9.38700e-01  1.99640e+00\n",
      "  5.23160e+00  4.82290e+00  2.46950e+00  5.08810e+00  6.10000e-01\n",
      "  1.38000e+01  1.38000e+01 -8.69990e+00 -4.42420e+00 -9.77490e+00\n",
      " -1.73199e+01 -3.76427e+01 -2.53116e+01 -2.68000e-04  2.00000e+00\n",
      "  6.67000e-01  1.63000e+01  5.45000e+00]\n",
      "Steady state ([ATP] = 1.00e-09, [ADP] = 1.00e-09)\n",
      "k_cat = 0.01, k_rot = 0.00\n",
      "Steady state ([ATP] = 3.16e-09, [ADP] = 1.00e-09)\n",
      "k_cat = 0.02, k_rot = 0.00\n",
      "Steady state ([ATP] = 1.00e-08, [ADP] = 1.00e-09)\n",
      "k_cat = 0.05, k_rot = 0.01\n",
      "Steady state ([ATP] = 3.16e-08, [ADP] = 1.00e-09)\n",
      "k_cat = 0.15, k_rot = 0.05\n",
      "Steady state ([ATP] = 1.00e-07, [ADP] = 1.00e-09)\n",
      "k_cat = 0.46, k_rot = 0.15\n",
      "Steady state ([ATP] = 3.16e-07, [ADP] = 1.00e-09)\n",
      "k_cat = 1.41, k_rot = 0.46\n",
      "Steady state ([ATP] = 1.00e-06, [ADP] = 1.00e-09)\n",
      "k_cat = 4.26, k_rot = 1.41\n",
      "Steady state ([ATP] = 3.16e-06, [ADP] = 1.00e-09)\n",
      "k_cat = 12.07, k_rot = 4.01\n",
      "Steady state ([ATP] = 1.00e-05, [ADP] = 1.00e-09)\n",
      "k_cat = 28.78, k_rot = 9.58\n",
      "Steady state ([ATP] = 3.16e-05, [ADP] = 1.00e-09)\n",
      "k_cat = 51.25, k_rot = 17.07\n",
      "Steady state ([ATP] = 1.00e-04, [ADP] = 1.00e-09)\n",
      "k_cat = 68.06, k_rot = 22.68\n",
      "Steady state ([ATP] = 3.16e-04, [ADP] = 1.00e-09)\n",
      "k_cat = 75.93, k_rot = 25.30\n",
      "Steady state ([ATP] = 1.00e-03, [ADP] = 1.00e-09)\n",
      "k_cat = 78.82, k_rot = 26.26\n",
      "Steady state ([ATP] = 3.16e-03, [ADP] = 1.00e-09)\n",
      "k_cat = 79.77, k_rot = 26.58\n",
      "Steady state ([ATP] = 1.00e-02, [ADP] = 1.00e-09)\n",
      "k_cat = 80.08, k_rot = 26.68\n",
      "Steady state ([ATP] = 3.16e-02, [ADP] = 1.00e-09)\n",
      "k_cat = 80.18, k_rot = 26.72\n",
      "Steady state ([ATP] = 1.00e-01, [ADP] = 1.00e-09)\n",
      "k_cat = 80.21, k_rot = 26.73\n",
      "Steady state ([ATP] = 3.16e-01, [ADP] = 1.00e-09)\n",
      "k_cat = 80.22, k_rot = 26.73\n",
      "Steady state ([ATP] = 1.00e+00, [ADP] = 1.00e-09)\n",
      "k_cat = 80.22, k_rot = 26.73\n"
     ]
    }
   ],
   "source": [
    "for k in [2]:\n",
    "    \n",
    "    vec_para, full_rec = readPara(\"demo.init.csv\", k)\n",
    "    print(k, vec_para)\n",
    "\n",
    "    work_dir = prepareWorkDir(\"./file=%s,set=%d\", True, \"demo\", k)\n",
    "    instance = InstanceAnalysis(model, vec_para, work_dir)\n",
    "\n",
    "    # Calculate physical quantities in different conditions (ATP/ADP concentrations)\n",
    "    instance.scan_conc_gradient(gradient = \"T\",\n",
    "                                concRange = {\"T\": np.logspace(-9, 0, 19),\n",
    "                                             \"D\": [1e-9]})"
   ]
  },
  {
   "cell_type": "markdown",
   "id": "114de302-933b-4a1b-8fdb-25b84e7eefe2",
   "metadata": {},
   "source": [
    "### Data visualization"
   ]
  },
  {
   "cell_type": "code",
   "execution_count": 6,
   "id": "00e47e20-726e-4bdc-bc86-427eb4da002b",
   "metadata": {},
   "outputs": [
    {
     "data": {
      "image/png": "[encoded data removed]",
      "text/plain": [
       "<Figure size 400x300 with 1 Axes>"
      ]
     },
     "metadata": {},
     "output_type": "display_data"
    }
   ],
   "source": [
    "fig, ax = plt.subplots(1, 1, figsize = (4, 3))\n",
    "\n",
    "for k in [2]:\n",
    "    work_dir = \"./file=demo,set=%d_1\"%k\n",
    "    ConcentrationGradient().plotRotModesPopulation(\\\n",
    "        ax, \"%s/SteadyStates_cD=1.00e-09.csv\"%work_dir,\n",
    "        which = \"T\")\n",
    "\n",
    "ax.set_xticklabels([0.01, 0.1, 1, 10, 100, 1000])\n",
    "ax.set_xlabel(\"[ATP] ($\\\\mathrm{\\\\mu}$M)\")\n",
    "ax.set_xticklabels([0.01, 0.1, 1, 10, 100, 1000])\n",
    "ax.set_xlabel(\"[ATP] ($\\\\mathrm{\\\\mu}$M)\")\n",
    "\n",
    "plt.savefig(\"population_shift.png\",  dpi = 500, bbox_inches = \"tight\", transparent = True)\n",
    "plt.show()"
   ]
  },
  {
   "cell_type": "code",
   "execution_count": null,
   "id": "b21bc780-4699-4a8d-8d3c-47d6eb552621",
   "metadata": {},
   "outputs": [],
   "source": []
  }
 ],
 "metadata": {
  "kernelspec": {
   "display_name": "Python 3 (ipykernel)",
   "language": "python",
   "name": "python3"
  },
  "language_info": {
   "codemirror_mode": {
    "name": "ipython",
    "version": 3
   },
   "file_extension": ".py",
   "mimetype": "text/x-python",
   "name": "python",
   "nbconvert_exporter": "python",
   "pygments_lexer": "ipython3",
   "version": "3.9.2"
  }
 },
 "nbformat": 4,
 "nbformat_minor": 5
}
